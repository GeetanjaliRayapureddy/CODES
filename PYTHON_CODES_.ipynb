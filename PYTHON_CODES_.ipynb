{
  "nbformat": 4,
  "nbformat_minor": 0,
  "metadata": {
    "colab": {
      "provenance": [],
      "toc_visible": true,
      "authorship_tag": "ABX9TyOmr7klWkWYdcpia8NyI4M/",
      "include_colab_link": true
    },
    "kernelspec": {
      "name": "python3",
      "display_name": "Python 3"
    },
    "language_info": {
      "name": "python"
    }
  },
  "cells": [
    {
      "cell_type": "markdown",
      "metadata": {
        "id": "view-in-github",
        "colab_type": "text"
      },
      "source": [
        "<a href=\"https://colab.research.google.com/github/GeetanjaliRayapureddy/CODES/blob/main/PYTHON_CODES_.ipynb\" target=\"_parent\"><img src=\"https://colab.research.google.com/assets/colab-badge.svg\" alt=\"Open In Colab\"/></a>"
      ]
    },
    {
      "cell_type": "markdown",
      "source": [
        "**OPERATIONBINARYSTRING**\n",
        "\n",
        "\n",
        "\n"
      ],
      "metadata": {
        "id": "rJDv6dJxCoO8"
      }
    },
    {
      "cell_type": "code",
      "execution_count": null,
      "metadata": {
        "colab": {
          "base_uri": "https://localhost:8080/"
        },
        "id": "28DacxumCWrp",
        "outputId": "053462a1-a7bb-4d2b-a314-8eef92bdaae8"
      },
      "outputs": [
        {
          "output_type": "stream",
          "name": "stdout",
          "text": [
            "1C1C1B0\n",
            "1\n"
          ]
        }
      ],
      "source": [
        "def OperationBinaryString(str):\n",
        "    ans=ord(str[0])-ord('0')\n",
        "    for i in range(1,len(str)-1,2):\n",
        "        j=i+1\n",
        "        if(str[i]=='A'):\n",
        "            ans=ans & (ord(str[j])-ord('0'))\n",
        "        elif(str[i]=='B'):\n",
        "            ans=ans | (ord(str[j])-ord('0'))\n",
        "        elif(str[i]=='C'):\n",
        "            ans=ans ^ (ord(str[j])-ord('0'))\n",
        "    return ans\n",
        "str=input()\n",
        "print(OperationBinaryString(str))"
      ]
    },
    {
      "cell_type": "markdown",
      "source": [
        "**STRING FLOAT AVERAGE**"
      ],
      "metadata": {
        "id": "GlhJI9PGCtqH"
      }
    },
    {
      "cell_type": "code",
      "source": [
        "def Average(s):\n",
        "  n=len(s)\n",
        "  sum=0\n",
        "  for i in s:\n",
        "    sum=sum+ord(i)\n",
        "  avg=sum/n\n",
        "  return avg\n",
        "s=input()\n",
        "temp=Average(s)\n",
        "rounded_number=format(temp,\".2f\")\n",
        "print(rounded_number)"
      ],
      "metadata": {
        "colab": {
          "base_uri": "https://localhost:8080/"
        },
        "id": "CnCesYPMCuJi",
        "outputId": "fc865045-1d38-48f0-e684-3a99f86fe022"
      },
      "execution_count": null,
      "outputs": [
        {
          "output_type": "stream",
          "name": "stdout",
          "text": [
            "ABC\n",
            "66.00\n"
          ]
        }
      ]
    },
    {
      "cell_type": "markdown",
      "source": [
        "**CONVERT TO PALINDROME(appending max character to become palindrome)**"
      ],
      "metadata": {
        "id": "jmFmXtO9Hujv"
      }
    },
    {
      "cell_type": "code",
      "source": [
        "def ConvertToPalindrome(l):\n",
        "  le=len(l)\n",
        "  for i in range(le):\n",
        "    le=len(l)\n",
        "    if l[i]!=l[le-i-1]:\n",
        "      l.insert(le-1,l[i])\n",
        "    else:\n",
        "      break\n",
        "    s=\"\".join(l)\n",
        "    if s==s[::-1]:\n",
        "      s==s.replace(s1,\"\")\n",
        "    return s\n",
        "s1=input().strip()\n",
        "l=list(s1)\n",
        "print(ConvertToPalindrome(l))"
      ],
      "metadata": {
        "colab": {
          "base_uri": "https://localhost:8080/"
        },
        "id": "87jEqMREHu-R",
        "outputId": "9485adb8-8c3c-49d6-9ef6-b69aef635eb1"
      },
      "execution_count": null,
      "outputs": [
        {
          "output_type": "stream",
          "name": "stdout",
          "text": [
            "abcdab\n",
            "abcdaab\n"
          ]
        }
      ]
    },
    {
      "cell_type": "markdown",
      "source": [
        "**given a array based on n and return the sum of the greatest leader**"
      ],
      "metadata": {
        "id": "UPr3l50BSS1s"
      }
    },
    {
      "cell_type": "code",
      "source": [
        "def sumOfLeaders(arr,n):\n",
        "    sum=0\n",
        "    for i in range(n-1):\n",
        "        flag=1\n",
        "        for j in range(i,n):\n",
        "            if(arr[j]>arr[i]):\n",
        "                flag=0\n",
        "                break\n",
        "        if(flag==1):\n",
        "            sum+=arr[i]\n",
        "    sum=sum+arr[n-1]\n",
        "    return sum\n",
        "n=int(input())\n",
        "arr=list(map(int,input().split()))\n",
        "print(sumOfLeaders(arr,n))"
      ],
      "metadata": {
        "colab": {
          "base_uri": "https://localhost:8080/"
        },
        "id": "XWbrD9AOSTT5",
        "outputId": "d1a3cb05-5cf7-4729-df29-7d7010b7df1f"
      },
      "execution_count": null,
      "outputs": [
        {
          "output_type": "stream",
          "name": "stdout",
          "text": [
            "5\n",
            "10 5 20 25 30\n",
            "30\n"
          ]
        }
      ]
    },
    {
      "cell_type": "markdown",
      "source": [
        "**GOOD NUMBER COUNT**"
      ],
      "metadata": {
        "id": "3nirsRadOuni"
      }
    },
    {
      "cell_type": "code",
      "source": [
        "def isCubicSumExist(N,A):\n",
        "    count = 0\n",
        "    for n in A:\n",
        "        lo = 1\n",
        "        hi = round(pow(n,1/3))\n",
        "        while lo <= hi:\n",
        "            z = lo*lo*lo + hi*hi*hi\n",
        "            if z==n:\n",
        "                count += 1\n",
        "                break\n",
        "            elif z>n:\n",
        "                hi -= 1\n",
        "            else:\n",
        "                lo += 1\n",
        "    return count\n",
        "N = int(input())\n",
        "A = list(map(int, input().split()))\n",
        "print(isCubicSumExist(N,A))"
      ],
      "metadata": {
        "colab": {
          "base_uri": "https://localhost:8080/"
        },
        "id": "BeNDjGS4Ou48",
        "outputId": "b812f72e-024b-4bf4-a4d3-5f26c29fcf1e"
      },
      "execution_count": null,
      "outputs": [
        {
          "output_type": "stream",
          "name": "stdout",
          "text": [
            "3\n",
            "35 9 1\n",
            "2\n"
          ]
        }
      ]
    },
    {
      "cell_type": "markdown",
      "source": [
        "**RETURN THR MISSING ALPHABET FROM THE GIVEN STRING**"
      ],
      "metadata": {
        "id": "kkT6VvWJSMq9"
      }
    },
    {
      "cell_type": "code",
      "source": [
        "def smallest_character(s):\n",
        "    for c in 'abcdefghijklmnopqrstuvwxyz':\n",
        "        if c not in s:\n",
        "            return c\n",
        "s = input()\n",
        "print(smallest_character(s))"
      ],
      "metadata": {
        "colab": {
          "base_uri": "https://localhost:8080/"
        },
        "id": "24P97x_7SM07",
        "outputId": "c3185c1d-a0dc-467c-b91d-2d44bdf594c9"
      },
      "execution_count": null,
      "outputs": [
        {
          "output_type": "stream",
          "name": "stdout",
          "text": [
            "acd\n",
            "b\n"
          ]
        }
      ]
    },
    {
      "cell_type": "markdown",
      "source": [
        "**PRINT THE ELEMENT FROM THE GIVEN ARRAY**\n",
        "\n"
      ],
      "metadata": {
        "id": "on1DCh0UXYaR"
      }
    },
    {
      "cell_type": "code",
      "source": [
        "def maxIndexElement(n,are):\n",
        "    max=-999\n",
        "    for i in range (0,n):\n",
        "        if(max<arr[i]):\n",
        "            max=arr[i]\n",
        "            index=i\n",
        "    print(max)\n",
        "    print(index)\n",
        "n=int(input())\n",
        "arr=list(map(int,input().strip().split()))\n",
        "print(maxIndexElement(n,arr))"
      ],
      "metadata": {
        "colab": {
          "base_uri": "https://localhost:8080/"
        },
        "id": "KC-PBlfZXYj-",
        "outputId": "6a0cff5c-e73e-497d-dc9e-cca6020cfcd3"
      },
      "execution_count": null,
      "outputs": [
        {
          "output_type": "stream",
          "name": "stdout",
          "text": [
            "3\n",
            "7 89 75\n",
            "89\n",
            "1\n",
            "None\n"
          ]
        }
      ]
    },
    {
      "cell_type": "markdown",
      "source": [
        "**FINDING THE GIVEN NUMBER INDEX IN THE LIST**"
      ],
      "metadata": {
        "id": "QdE0BOdn8tGg"
      }
    },
    {
      "cell_type": "code",
      "source": [
        "\n",
        "n=list(map(int,input().split()))\n",
        "b=max(n)\n",
        "print(b)\n",
        "c=n.index(b)\n",
        "print(c)"
      ],
      "metadata": {
        "colab": {
          "base_uri": "https://localhost:8080/"
        },
        "id": "lbwHWpUdZGQo",
        "outputId": "bb2bc739-20d3-4dce-85db-dcc68f5de89d"
      },
      "execution_count": null,
      "outputs": [
        {
          "output_type": "stream",
          "name": "stdout",
          "text": [
            "5 78 89 \n",
            "89\n",
            "2\n"
          ]
        }
      ]
    },
    {
      "cell_type": "markdown",
      "source": [
        "**MIN MAX IN TWO ARRAYS:**\n",
        "int MinMaxInTwo Arrays(int arr1[],int arr2[],in len1,int len2,int k);"
      ],
      "metadata": {
        "id": "ZBVW4R1Bprh0"
      }
    },
    {
      "cell_type": "code",
      "source": [
        "def minMax(a1,a2,k):\n",
        "  mini=99999\n",
        "  maxi=-9999\n",
        "  count1=0\n",
        "  count2=0\n",
        "  l1=len(a1)\n",
        "  l2=len(a2)\n",
        "  for i in range(l1):\n",
        "      if(a1[i]>k):\n",
        "          count1=count1+1\n",
        "  for j in range(l2):\n",
        "      if(a2[j]<k):\n",
        "          count2=count2+1\n",
        "  return max(count1,count2)\n",
        "a1=list(map(int,input().strip().split()))\n",
        "a2=list(map(int,input().strip().split()))\n",
        "k=int(input())\n",
        "print(minMax(a1,a2,k))"
      ],
      "metadata": {
        "id": "os3OUsnVptet",
        "colab": {
          "base_uri": "https://localhost:8080/"
        },
        "outputId": "0ad8cf0a-b4e7-4bef-9200-3542fe5293a1"
      },
      "execution_count": null,
      "outputs": [
        {
          "output_type": "stream",
          "name": "stdout",
          "text": [
            "9 34 5 7\n",
            "14 5 7 810\n",
            "9\n",
            "2\n"
          ]
        }
      ]
    },
    {
      "cell_type": "markdown",
      "source": [
        "**ABSOLUTE DIFFERENCE:**\n",
        "the function accept an integer 'arr' ,its length and two integer variables '"
      ],
      "metadata": {
        "id": "wYNKS9SlweKc"
      }
    },
    {
      "cell_type": "code",
      "source": [
        "def FindCount(arr,num,diff):\n",
        "    Count=0\n",
        "    length=len(arr)\n",
        "    for i in range(length):\n",
        "        if arr[i]-num<=diff:\n",
        "            Count+=1\n",
        "    return Count\n",
        "arr=list(map(int,input().split()))\n",
        "num=int(input())\n",
        "diff=int(input())\n",
        "print(FindCount(arr,num,diff))"
      ],
      "metadata": {
        "id": "lvGkHinHwfNA",
        "colab": {
          "base_uri": "https://localhost:8080/"
        },
        "outputId": "099ed130-a225-4ca8-f196-91c7dd936090"
      },
      "execution_count": null,
      "outputs": [
        {
          "output_type": "stream",
          "name": "stdout",
          "text": [
            "3 45 62 22\n",
            "3\n",
            "2\n",
            "1\n"
          ]
        }
      ]
    },
    {
      "cell_type": "markdown",
      "source": [
        "**NUMEROLOGICAL REDUCTION**"
      ],
      "metadata": {
        "id": "ihNIn4I5VQFI"
      }
    },
    {
      "cell_type": "code",
      "source": [
        "def digital_root(n):\n",
        "    if n == 0:\n",
        "        return 0\n",
        "    if n % 9 == 0:\n",
        "        return 9\n",
        "    else:\n",
        "        return n % 9\n",
        "n = int(input())\n",
        "print(digital_root(n))"
      ],
      "metadata": {
        "colab": {
          "base_uri": "https://localhost:8080/"
        },
        "id": "31XBT10rVQie",
        "outputId": "d7ffccb4-16cd-4707-e7a1-645f3ecd3a02"
      },
      "execution_count": null,
      "outputs": [
        {
          "output_type": "stream",
          "name": "stdout",
          "text": [
            "3245\n",
            "5\n"
          ]
        }
      ]
    },
    {
      "cell_type": "markdown",
      "source": [
        "**ADDING THE VALUE IN THE PARTICULAR INDEX VALUE**"
      ],
      "metadata": {
        "id": "K40DLLxHu-39"
      }
    },
    {
      "cell_type": "code",
      "source": [
        "my_arr=[1,2,3,4,5]\n",
        "my_arr.insert(2,10)\n",
        "print(my_arr)"
      ],
      "metadata": {
        "colab": {
          "base_uri": "https://localhost:8080/"
        },
        "id": "cUUcuM1hu_Cp",
        "outputId": "ffc4cbd2-91bb-4073-8bfd-968322edab9a"
      },
      "execution_count": null,
      "outputs": [
        {
          "output_type": "stream",
          "name": "stdout",
          "text": [
            "[1, 2, 10, 3, 4, 5]\n"
          ]
        }
      ]
    },
    {
      "cell_type": "markdown",
      "source": [
        "**ADDING THE DIVEN VALUE IN THE SPECIFIC INDEX**"
      ],
      "metadata": {
        "id": "vvTLXHxZ87N8"
      }
    },
    {
      "cell_type": "code",
      "source": [
        "arr=[1,2,3,4,5]\n",
        "index=2\n",
        "for i in range(len(arr)):\n",
        "    if i==index:\n",
        "        print(10,end=\" \")\n",
        "        print(arr[i],end=\" \")\n",
        "    else:\n",
        "        print(arr[i],end=\" \")"
      ],
      "metadata": {
        "colab": {
          "base_uri": "https://localhost:8080/"
        },
        "id": "xW8xqtTtyhu3",
        "outputId": "c74182c1-7d01-4dc2-f183-dd734488b7cd"
      },
      "execution_count": null,
      "outputs": [
        {
          "output_type": "stream",
          "name": "stdout",
          "text": [
            "1 2 10 3 4 5 "
          ]
        }
      ]
    },
    {
      "cell_type": "markdown",
      "source": [
        "**PALINDROME**"
      ],
      "metadata": {
        "id": "iCRmVpY5H9UD"
      }
    },
    {
      "cell_type": "code",
      "source": [
        "s=input()\n",
        "if s==s[::-1]:\n",
        "    print(\"Palindrome\")\n",
        "else:\n",
        "    print(\"Not palindrome\")"
      ],
      "metadata": {
        "colab": {
          "base_uri": "https://localhost:8080/"
        },
        "id": "PX86dr7pIqAg",
        "outputId": "06fff99b-0403-4ce1-f72a-b1a38e235394"
      },
      "execution_count": null,
      "outputs": [
        {
          "output_type": "stream",
          "name": "stdout",
          "text": [
            "malayalam\n",
            "Palindrome\n"
          ]
        }
      ]
    },
    {
      "cell_type": "markdown",
      "source": [
        "**TAKING ARRAY AND K VALUE AND PRINTING THE NUMBER WHICH IS EQUALS TO K**"
      ],
      "metadata": {
        "id": "I2pOr8WMVi7l"
      }
    },
    {
      "cell_type": "code",
      "source": [
        "arr=list(map(int,input().split()))\n",
        "k=int(input())\n",
        "n=len(arr)\n",
        "for i in range(n-1):\n",
        "    for j in range(i+1,n):\n",
        "        if arr[i]+arr[j]==k:\n",
        "            print(arr[i],arr[j])\n",
        "            break"
      ],
      "metadata": {
        "colab": {
          "base_uri": "https://localhost:8080/"
        },
        "id": "6KLFKu-VVjPR",
        "outputId": "e0c72597-0dd7-4c1f-907e-8c01e663536f"
      },
      "execution_count": null,
      "outputs": [
        {
          "output_type": "stream",
          "name": "stdout",
          "text": [
            "3 4 5 6 7 8 9\n",
            "9\n",
            "3 6\n",
            "4 5\n"
          ]
        }
      ]
    },
    {
      "cell_type": "markdown",
      "source": [
        "  **>>>>>>MORNING CLASSES<<<<<<<**\n",
        "\n",
        "\n"
      ],
      "metadata": {
        "id": "XneTuhPxyT8q"
      }
    },
    {
      "cell_type": "markdown",
      "source": [
        "**1.AUTOMORPIC NUMER OR NOT**\n"
      ],
      "metadata": {
        "id": "sfWfbwASx6ei"
      }
    },
    {
      "cell_type": "code",
      "source": [
        "n=int(input())\n",
        "m=n*n\n",
        "num=m%10\n",
        "if num==n:\n",
        "  print(\"Automorpic Number\")\n",
        "else:\n",
        "  print(\"Not Automorpic Number\")"
      ],
      "metadata": {
        "colab": {
          "base_uri": "https://localhost:8080/"
        },
        "id": "rLukskH_x_bW",
        "outputId": "e5c8a90e-ff20-40cd-d9cd-39c15b13f7e2"
      },
      "execution_count": null,
      "outputs": [
        {
          "output_type": "stream",
          "name": "stdout",
          "text": [
            "5\n",
            "Automorpic Number\n"
          ]
        }
      ]
    },
    {
      "cell_type": "markdown",
      "source": [
        "**2.ABUNDENT NUMBER OR NOT:**It means the given the n,sum,and we will check the n%i==0 then we need to sum+i,and the sum will increment from the range(1 to 12).\n",
        "\n",
        "we will get the sum value after doing all the iterations.\n",
        "\n",
        "the the sum must be greater than  the given n,then the number is ABUNDENT NUMBER.\n"
      ],
      "metadata": {
        "id": "aG1f9qofy2t7"
      }
    },
    {
      "cell_type": "code",
      "source": [
        "n=int(input())\n",
        "sum=0\n",
        "for i in range(1,n):\n",
        "  if n%i==0:\n",
        "    sum=sum+i\n",
        "if sum>n:\n",
        "    print(\"Abundant Number\")\n",
        "else:\n",
        "  print(\"Not Abundent Number\")"
      ],
      "metadata": {
        "colab": {
          "base_uri": "https://localhost:8080/"
        },
        "id": "KwLjCzjzzcpy",
        "outputId": "c810bb78-c412-44d8-9317-3fdaf50dc3d0"
      },
      "execution_count": null,
      "outputs": [
        {
          "output_type": "stream",
          "name": "stdout",
          "text": [
            "12\n",
            "Abundant Number\n"
          ]
        }
      ]
    },
    {
      "cell_type": "markdown",
      "source": [
        "**3.HARSHAD NUMBER:** it means the given number is 21 .\n",
        "\n",
        "then we need to add this 2+1=3.\n",
        "\n",
        "then we need to check wether the given number(21)is divisible by 3."
      ],
      "metadata": {
        "id": "7Tur4EEP1P7W"
      }
    },
    {
      "cell_type": "code",
      "source": [
        "n=int(input())\n",
        "sum=0\n",
        "rem=n%10\n",
        "while (rem>0):\n",
        "  sum=sum+rem\n",
        "  n=n//10\n",
        "  rem=n%10\n",
        "if n%sum==0:\n",
        "    print(\"Harshad Number\")\n",
        "else:\n",
        "  print(\"Not Harshad Number\")\n"
      ],
      "metadata": {
        "colab": {
          "base_uri": "https://localhost:8080/"
        },
        "id": "svnpgMCF1Q6q",
        "outputId": "c27cfba2-3a3a-43a6-fca5-8955b7477c0c"
      },
      "execution_count": null,
      "outputs": [
        {
          "output_type": "stream",
          "name": "stdout",
          "text": [
            "45\n",
            "Harshad Number\n"
          ]
        }
      ]
    },
    {
      "cell_type": "markdown",
      "source": [
        "**4.PERFECT NUMBER:**if the sum is equals to the given number"
      ],
      "metadata": {
        "id": "mCe9apcw4gOy"
      }
    },
    {
      "cell_type": "code",
      "source": [
        "n=int(input())\n",
        "sum=0\n",
        "for i in range(1,n):\n",
        "  if n%i==0:\n",
        "    sum=sum+i\n",
        "if sum==n:\n",
        "    print(\"Perfect Number\")\n",
        "else:\n",
        "  print(\"Not Perfect Number\")"
      ],
      "metadata": {
        "colab": {
          "base_uri": "https://localhost:8080/"
        },
        "id": "1iwLKTqo4k_s",
        "outputId": "351ff68c-4f74-4bde-df60-d2dd8f511553"
      },
      "execution_count": null,
      "outputs": [
        {
          "output_type": "stream",
          "name": "stdout",
          "text": [
            "28\n",
            "Perfect Number\n"
          ]
        }
      ]
    },
    {
      "cell_type": "markdown",
      "source": [
        "**5.FRIENDLY PAIR:**"
      ],
      "metadata": {
        "id": "R8_63PX84-at"
      }
    },
    {
      "cell_type": "code",
      "source": [
        "n1=int(input())\n",
        "n2=int(input())\n",
        "sum1=0\n",
        "sum2=0\n",
        "for i in range(1,n1):\n",
        "  if n1%i==0:\n",
        "    sum1=sum1+i\n",
        "for j in range(1,n2):\n",
        "  if n2%j==0:\n",
        "    sum2=sum2+j\n",
        "if sum1//n1==sum2//n2:\n",
        "  print(\"Friendly Pair\")\n",
        "else:\n",
        "  print(\"Not Friendly pair\")"
      ],
      "metadata": {
        "colab": {
          "base_uri": "https://localhost:8080/"
        },
        "id": "4Zxkaa5E5Ezq",
        "outputId": "c7d14b66-e357-4505-a21e-a9d6e14fec26"
      },
      "execution_count": null,
      "outputs": [
        {
          "output_type": "stream",
          "name": "stdout",
          "text": [
            "8\n",
            "28\n",
            "Not Friendly pair\n"
          ]
        }
      ]
    },
    {
      "cell_type": "markdown",
      "source": [
        "**6.PERFECT SQUARE:** Example square root of 25=5 .\n",
        "\n",
        "then we need to do the multiplication with the same 5 (eg.5*5=25) must come"
      ],
      "metadata": {
        "id": "9iJJMB4N85ql"
      }
    },
    {
      "cell_type": "code",
      "source": [
        "n=25\n",
        "for i in range(1,n+1):\n",
        "  if i*i==n:\n",
        "      print(\"Perfect Square\")\n",
        "      break\n"
      ],
      "metadata": {
        "colab": {
          "base_uri": "https://localhost:8080/"
        },
        "id": "FzUR7OSI88GP",
        "outputId": "07a6664a-294a-4a4f-c8e3-6bd6dd874ba9"
      },
      "execution_count": null,
      "outputs": [
        {
          "output_type": "stream",
          "name": "stdout",
          "text": [
            "Perfect Square\n"
          ]
        }
      ]
    }
  ]
}